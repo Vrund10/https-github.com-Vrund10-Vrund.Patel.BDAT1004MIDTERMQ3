{
 "cells": [
  {
   "cell_type": "code",
   "execution_count": 1,
   "metadata": {},
   "outputs": [
    {
     "name": "stdout",
     "output_type": "stream",
     "text": [
      "f(0,0)\n",
      "\n",
      "f(0,1)\n",
      "*\n",
      "\n",
      "f(0,2)\n",
      "*\n",
      "**\n",
      " *\n",
      "\n",
      "f(0,4)\n",
      "*\n",
      "**\n",
      " *\n",
      "****\n",
      " *\n",
      " **\n",
      "  *\n"
     ]
    }
   ],
   "source": [
    "def tough(indent, n):\n",
    "    if n == 0:\n",
    "        return\n",
    "    elif n == 1:\n",
    "        print(' ' * indent + '*')\n",
    "    else:\n",
    "        tough(indent, n // 2)\n",
    "        print(' ' * indent + '*' * n)\n",
    "        tough(indent + 1, n // 2)\n",
    "\n",
    "print(\"f(0,0)\")\n",
    "tough(0, 0)\n",
    "print(\"\\nf(0,1)\")\n",
    "tough(0, 1)\n",
    "print(\"\\nf(0,2)\")\n",
    "tough(0, 2)\n",
    "print(\"\\nf(0,4)\")\n",
    "tough(0, 4)\n"
   ]
  }
 ],
 "metadata": {
  "kernelspec": {
   "display_name": "Python 3",
   "language": "python",
   "name": "python3"
  },
  "language_info": {
   "codemirror_mode": {
    "name": "ipython",
    "version": 3
   },
   "file_extension": ".py",
   "mimetype": "text/x-python",
   "name": "python",
   "nbconvert_exporter": "python",
   "pygments_lexer": "ipython3",
   "version": "3.7.6"
  }
 },
 "nbformat": 4,
 "nbformat_minor": 4
}
